{
 "cells": [
  {
   "cell_type": "code",
   "execution_count": 1,
   "metadata": {},
   "outputs": [
    {
     "name": "stdout",
     "output_type": "stream",
     "text": [
      "pygame 1.9.6\n",
      "Hello from the pygame community. https://www.pygame.org/contribute.html\n"
     ]
    },
    {
     "ename": "SystemExit",
     "evalue": "0",
     "output_type": "error",
     "traceback": [
      "An exception has occurred, use %tb to see the full traceback.\n",
      "\u001b[0;31mSystemExit\u001b[0m\u001b[0;31m:\u001b[0m 0\n"
     ]
    },
    {
     "name": "stderr",
     "output_type": "stream",
     "text": [
      "/home/jimmy/.local/lib/python3.7/site-packages/IPython/core/interactiveshell.py:3334: UserWarning: To exit: use 'exit', 'quit', or Ctrl-D.\n",
      "  warn(\"To exit: use 'exit', 'quit', or Ctrl-D.\", stacklevel=1)\n"
     ]
    }
   ],
   "source": [
    "import pygame\n",
    "import sys\n",
    "\n",
    "pygame.init()\n",
    "\n",
    "window = pygame.display.set_mode((500, 500))\n",
    "window.fill((255, 255, 255))\n",
    "\n",
    "class button():\n",
    "    def __init__(self, color=(0, 0, 255), x=150, y=200, width=200, height=100, text='Authenticate'):\n",
    "        self.color = color\n",
    "        self.x = x\n",
    "        self.y = y\n",
    "        self.width = width\n",
    "        self.height = height\n",
    "        self.text = text\n",
    "\n",
    "    def draw(self,win):\n",
    "        pygame.draw.rect(win, self.color, (self.x, self.y, self.width, self.height))\n",
    "        \n",
    "        if self.text != '':\n",
    "            font = pygame.font.SysFont('arial', 20)\n",
    "            text = font.render(self.text, 1, (0,0,0))\n",
    "            win.blit(text, (self.x + (self.width/2 - text.get_width()/2), self.y + (self.height/2 - text.get_height()/2)))\n",
    "\n",
    "    def isOver(self, pos):\n",
    "        #Pos is the mouse position or a tuple of (x,y) coordinates\n",
    "        if pos[0] > self.x and pos[0] < self.x + self.width:\n",
    "            if pos[1] > self.y and pos[1] < self.y + self.height:\n",
    "                return True\n",
    "            \n",
    "        return False\n",
    "\n",
    "button = button()\n",
    "\n",
    "def redraw():\n",
    "    window.fill((255, 255, 255))\n",
    "    button.draw(window)\n",
    "    \n",
    "run = True\n",
    "while run:\n",
    "    redraw()\n",
    "    pygame.display.update()\n",
    "    \n",
    "    for event in pygame.event.get():\n",
    "        mouse = pygame.mouse.get_pos()\n",
    "        \n",
    "        if event.type == pygame.QUIT:\n",
    "            run = False\n",
    "            pygame.quit()\n",
    "        \n",
    "        if event.type == pygame.MOUSEBUTTONDOWN:\n",
    "            if button.isOver(mouse):\n",
    "                button.x = button.x + 5\n",
    "                button.y = button.y + 5\n",
    "                button.width = button.width - 10\n",
    "                button.height = button.height - 10\n",
    "                \n",
    "        if event.type == pygame.MOUSEBUTTONUP:\n",
    "            if button.isOver(mouse):\n",
    "                button.x = button.x - 5\n",
    "                button.y = button.y - 5\n",
    "                button.width = button.width + 10\n",
    "                button.height = button.height + 10\n",
    "                run = False\n",
    "                \n",
    "pygame.quit()\n",
    "sys.exit(0)\n",
    "    "
   ]
  }
 ],
 "metadata": {},
 "nbformat": 4,
 "nbformat_minor": 2
}
